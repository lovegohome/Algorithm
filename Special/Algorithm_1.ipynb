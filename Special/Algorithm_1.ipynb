{
  "nbformat": 4,
  "nbformat_minor": 0,
  "metadata": {
    "colab": {
      "name": "Untitled0.ipynb",
      "provenance": [],
      "authorship_tag": "ABX9TyOp79EGP+iRnuC6ftXKi/XI",
      "include_colab_link": true
    },
    "kernelspec": {
      "name": "python3",
      "display_name": "Python 3"
    },
    "language_info": {
      "name": "python"
    }
  },
  "cells": [
    {
      "cell_type": "markdown",
      "metadata": {
        "id": "view-in-github",
        "colab_type": "text"
      },
      "source": [
        "<a href=\"https://colab.research.google.com/github/lovegohome/Algorithm/blob/main/Special/Algorithm_1.ipynb\" target=\"_parent\"><img src=\"https://colab.research.google.com/assets/colab-badge.svg\" alt=\"Open In Colab\"/></a>"
      ]
    },
    {
      "cell_type": "markdown",
      "metadata": {
        "id": "liArp9lFBtwX"
      },
      "source": [
        "# Algorithm 특강\n",
        "\n",
        "수업목표\n",
        "\n",
        "  1. 자료구조 및 알고리즘에 대한 개념 이해\n",
        "  2. 파이썬 코딩을 통한 알고리즘 구현"
      ]
    },
    {
      "cell_type": "markdown",
      "metadata": {
        "id": "fzE73nWgCVCg"
      },
      "source": [
        "- 자료구조 : 요리 재료\n",
        "- 알고리즘 : 요리 방법\n",
        "\n"
      ]
    },
    {
      "cell_type": "markdown",
      "metadata": {
        "id": "OWwJakn6CdL1"
      },
      "source": [
        "<자료구조의 종류>\n",
        "\n",
        "- 단순 자료구조(정수, 실수, 문자, 문자열)\n",
        "- **선형 자료구조**(선형 & 연결리스트, 스택, 큐)\n",
        "- **비선형 자료구조**(트리, 그래프)\n",
        "- 파일 자료구조(순차, 색인, 직접 파일)"
      ]
    },
    {
      "cell_type": "code",
      "metadata": {
        "id": "UH7VwqhuBp_e"
      },
      "source": [
        ""
      ],
      "execution_count": null,
      "outputs": []
    }
  ]
}